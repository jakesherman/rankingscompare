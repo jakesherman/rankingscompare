{
 "cells": [
  {
   "cell_type": "markdown",
   "metadata": {},
   "source": [
    "# Dealing w/ ties"
   ]
  },
  {
   "cell_type": "code",
   "execution_count": 4,
   "metadata": {
    "collapsed": true
   },
   "outputs": [],
   "source": [
    "from collections import OrderedDict\n",
    "from functools import partial\n",
    "import rankingscompare as rc"
   ]
  },
  {
   "cell_type": "markdown",
   "metadata": {},
   "source": [
    "## Comparing two lists that consist of all ties"
   ]
  },
  {
   "cell_type": "code",
   "execution_count": 5,
   "metadata": {
    "collapsed": false
   },
   "outputs": [
    {
     "name": "stdout",
     "output_type": "stream",
     "text": [
      "> Kendall's Tau-A : 0.0\n",
      "> Kendall's Tau-B : nan\n",
      "> Kendall's Tau-C : 0.0\n",
      "> Goodman - Kruskal Gamma : > Goodman - Kruskal Gamma : _FAILED_\n",
      "> Somers' D : 0.0\n",
      "> AP correlation : -1.0\n"
     ]
    }
   ],
   "source": [
    "def do_comparison(X, Y):\n",
    "    \"\"\"Run a bunch of rank correlation statistics on two lists, X and Y,\n",
    "    of equal length, and report back.\n",
    "    \"\"\"\n",
    "    names = [\"Kendall's Tau-A\", \"Kendall's Tau-B\", \"Kendall's Tau-C\",\n",
    "            \"Goodman - Kruskal Gamma\", \"Somers' D\", \"AP correlation\"]\n",
    "    functions = [rc.tau_a, rc.tau_b, rc.tau_c, rc.gamma, rc.sommers_d,\n",
    "                partial(rc.ap_correlation, symmetric = True)]\n",
    "    for name, function in zip(names, functions):\n",
    "        try:\n",
    "            print '>', name, ':', str(function(X, Y))\n",
    "        except:\n",
    "            print '>', name, ': _FAILED_'\n",
    "\n",
    "            \n",
    "X, Y = [1, 1, 1, 1], [2, 2, 2, 2]\n",
    "do_comparison(X, Y)"
   ]
  },
  {
   "cell_type": "markdown",
   "metadata": {},
   "source": [
    "## Lists of mostly ties"
   ]
  },
  {
   "cell_type": "code",
   "execution_count": 6,
   "metadata": {
    "collapsed": false
   },
   "outputs": [
    {
     "name": "stdout",
     "output_type": "stream",
     "text": [
      "> Kendall's Tau-A : 0.5\n",
      "> Kendall's Tau-B : 1.0\n",
      "> Kendall's Tau-C : 12.0\n",
      "> Goodman - Kruskal Gamma : 1.0\n",
      "> Somers' D : 0.5\n",
      "> AP correlation : 0.0\n"
     ]
    }
   ],
   "source": [
    "X, Y = [1, 1, 1, 2], [2, 2, 2, 3]\n",
    "do_comparison(X, Y)"
   ]
  },
  {
   "cell_type": "markdown",
   "metadata": {},
   "source": [
    "What's up with tau c?"
   ]
  },
  {
   "cell_type": "markdown",
   "metadata": {},
   "source": [
    "## Similar to above, but let's have a discordant final pair"
   ]
  },
  {
   "cell_type": "code",
   "execution_count": 7,
   "metadata": {
    "collapsed": false
   },
   "outputs": [
    {
     "name": "stdout",
     "output_type": "stream",
     "text": [
      "> Kendall's Tau-A : -0.5\n",
      "> Kendall's Tau-B : -1.0\n",
      "> Kendall's Tau-C : -12.0\n",
      "> Goodman - Kruskal Gamma : -1.0\n",
      "> Somers' D : -0.5\n",
      "> AP correlation : -1.0\n"
     ]
    }
   ],
   "source": [
    "X, Y = [1, 1, 1, 2], [2, 2, 2, 1]\n",
    "do_comparison(X, Y)"
   ]
  },
  {
   "cell_type": "code",
   "execution_count": null,
   "metadata": {
    "collapsed": true
   },
   "outputs": [],
   "source": []
  }
 ],
 "metadata": {
  "anaconda-cloud": {},
  "kernelspec": {
   "display_name": "Python [Root]",
   "language": "python",
   "name": "Python [Root]"
  },
  "language_info": {
   "codemirror_mode": {
    "name": "ipython",
    "version": 2
   },
   "file_extension": ".py",
   "mimetype": "text/x-python",
   "name": "python",
   "nbconvert_exporter": "python",
   "pygments_lexer": "ipython2",
   "version": "2.7.12"
  }
 },
 "nbformat": 4,
 "nbformat_minor": 0
}
