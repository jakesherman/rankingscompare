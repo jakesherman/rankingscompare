{
 "cells": [
  {
   "cell_type": "markdown",
   "metadata": {},
   "source": [
    "# Demoing\n",
    "\n",
    "Data structures for ordinal/ranked pairs of variables."
   ]
  },
  {
   "cell_type": "code",
   "execution_count": 18,
   "metadata": {
    "collapsed": true
   },
   "outputs": [],
   "source": [
    "import numpy as np\n",
    "import pandas as pd\n",
    "import rankingscompare as rc"
   ]
  },
  {
   "cell_type": "markdown",
   "metadata": {},
   "source": [
    "## Conjoint, no ties\n",
    "\n",
    "Though some of these options involve storing ranks instead of values, I would prefer to store values and let this package to the conversion of values into ranks. This list is not exhaustive, these are just some of the methods that I thought of:\n",
    "\n",
    "1. Two separate lists, of equal length, where position x in each list represents a paried item. Elements in the list may be either values to be ranked, or the ranks themselves. **Two lists (or vectors) of values is the most common for statistics on two variables.**\n",
    "2. A list of lists or tuples, where each list/tuple in the list represents a paired item. Elements in the lists/tuples may be values or ranks.\n",
    "3. Two separate lists, of equal length, of objects, where position x in each list represents rank x + 1 (Python lists are 0-indexed).\n",
    "4. Same as above, but a list of lists/tuples\n",
    "5. List of lists/tuples that contain 3 entries: the item, the first value/rank, and the second value/rank (basically a table)\n",
    "6. The above, but as a Pandas DataFrame, which is more commonly used to store tabular data for data analysis than a list of lists/tuples (this is just a guess)\n",
    "7. Dictionary of item (key) to a list/tuple of values for Variable1, Variable2 (values)\n",
    "8. Dictionary of rank (key) to a list/tuple of items for Variable1, Variable2 (values)\n",
    "\n",
    "Option 1 is my favorite. Options 5 and 6 make a lot of sense because values for ordinal variables are typically stored in tables."
   ]
  },
  {
   "cell_type": "code",
   "execution_count": 15,
   "metadata": {
    "collapsed": true
   },
   "outputs": [],
   "source": [
    "# Option 1, elements are values to be converted to ranks\n",
    "a = [15, 10, 5, 6]\n",
    "b = [23, 24, 25, 26]\n",
    "\n",
    "# Option 2, elements are values to be converted to ranks\n",
    "ranks = [\n",
    "    [15, 23],  # item a\n",
    "    [10, 24],  # item b\n",
    "    [5, 25],   # item c\n",
    "    [6, 26]    # item d\n",
    "]\n",
    "\n",
    "# Option 3\n",
    "a = ['a', 'b', 'd', 'c']\n",
    "b = ['d', 'c', 'b', 'a']\n",
    "\n",
    "# Option 4\n",
    "ranks = [\n",
    "    ['a', 'd'],  # rank 1\n",
    "    ['b', 'c'],  # rank 2\n",
    "    ['d', 'b'],  # rank 3\n",
    "    ['c', 'a']   # rank 4\n",
    "]\n",
    "\n",
    "# Option 5\n",
    "ranks = [\n",
    "    ['a', 15, 23],  # item a\n",
    "    ['b', 10, 24],  # item b\n",
    "    ['c', 5, 25],   # item c\n",
    "    ['d', 6, 26]    # item d\n",
    "]\n",
    "\n",
    "# Option 6\n",
    "ranks = pd.DataFrame(ranks, columns = ['Item', 'Variable1', 'Variable2'])\n",
    "\n",
    "# Option 7\n",
    "ranks = {\n",
    "    'a': [15, 23],  # item a\n",
    "    'b': [10, 24],\n",
    "    'c': [5, 25],\n",
    "    'd': [6, 26]\n",
    "}\n",
    "\n",
    "# Option 8\n",
    "ranks = {\n",
    "    1: ['a', 'd'],  # rank 1\n",
    "    2: ['b', 'c'],\n",
    "    3: ['d', 'b'],\n",
    "    4: ['c', 'a']\n",
    "}"
   ]
  },
  {
   "cell_type": "markdown",
   "metadata": {},
   "source": [
    "## Conjoint, ties\n",
    "\n",
    "The above options all work with ties, except for options 3, 4 and 8.\n",
    "\n",
    "The question then becomes how to represent ties? For statistics like `rc.tau_b`, we can convert values to ranks using `rc.to_rank` and use the midrank approach of assigning a group of ties the mean of the tied ranks, and can then use those lists of ranks for computation. This becomes a little more complicated later on when we consider non-conjoint data.\n",
    "\n",
    "We can modify approaches 3, 4 and 8 to incorporate lists of ties, but I hate these:\n",
    "\n",
    "9. Option 9 - Modify Option 3 by creating separate lists for each variable specifying which items are tied for each variable.\n",
    "\n",
    "10. Option 10 - Modify Option 4 by creating separate lists for each variable specifying which items are tied for each variable.\n",
    "\n",
    "11. Option 11 - Modify Option 8 by still having ranks as keys, but now elements 0 and 1 of the lists/tuples that are values in the dictionary are lists/tuples of items at the rank of the key from Variable1 and Variable 2, respectively."
   ]
  },
  {
   "cell_type": "code",
   "execution_count": 13,
   "metadata": {
    "collapsed": true
   },
   "outputs": [],
   "source": [
    "# Option 9\n",
    "a = ['a', 'b', 'd', 'c']\n",
    "b = ['d', 'c', 'b', 'a']\n",
    "a_ties = [['b', 'd']]  # b and d are tied in variable a\n",
    "b_ties = [['b', 'a']]  # b and a are tied in variable b\n",
    "\n",
    "# Option 10\n",
    "ranks = [\n",
    "    ['a', 'd'],  # higher ranks (1, 2, ...)\n",
    "    ['b', 'c'],  \n",
    "    ['d', 'b'],  \n",
    "    ['c', 'a']   # lower ranks (4, 3, ...)\n",
    "]\n",
    "a_ties = [['b', 'd']]  # b and d are tied in variable a\n",
    "b_ties = [['b', 'a']]  # b and a are tied in variable b\n",
    "\n",
    "# Option 11\n",
    "ranks = {\n",
    "    1:   [['a']     , ['d']],\n",
    "    2:   [None      , ['c']],\n",
    "    2.5: [['b', 'd'], None],\n",
    "    3.5: [None      , ['b', 'a']],\n",
    "    4:   [['c']     , None]\n",
    "}"
   ]
  },
  {
   "cell_type": "markdown",
   "metadata": {},
   "source": [
    "## Non-conjoint, no ties\n",
    "\n",
    "Option 3 works as-is.\n",
    "\n",
    "The other options may be modified to work with non-conjoint data by adding in `None` values to represent cases where an item appears in one set but not the other. Adding `None` is slightly awkward ... the only benefit of it over using Options 3 as-is is that when we consider ties, Options 3 won't work, while these modified Options will work."
   ]
  },
  {
   "cell_type": "code",
   "execution_count": 11,
   "metadata": {
    "collapsed": true
   },
   "outputs": [],
   "source": [
    "# Modified Option 1 - adding an item in a and not b, and vice versa\n",
    "a = [15, 10, 5,  6 , None, 2]\n",
    "b = [23, 24, 25, 26, 4,    None]\n",
    "\n",
    "# Modified Option 2\n",
    "ranks = [\n",
    "    [15, 23],   # item a\n",
    "    [10, 24],   # item b\n",
    "    [5, 25],    # item c\n",
    "    [6, 26],    # item d\n",
    "    [None, 4],  # item e, only in Variable2\n",
    "    [2, None]   # item f, only in Variable1\n",
    "]\n",
    "\n",
    "# etc ..."
   ]
  },
  {
   "cell_type": "markdown",
   "metadata": {},
   "source": [
    "## Non-conjoint, ties\n",
    "\n",
    "The best choices..."
   ]
  },
  {
   "cell_type": "code",
   "execution_count": null,
   "metadata": {
    "collapsed": true
   },
   "outputs": [],
   "source": [
    "# Modified Option 1 - adding an item in a and not b, and vice versa\n",
    "a = [15, 10, 5,  6 , None, 2]\n",
    "b = [23, 24, 25, 26, 4,    None]\n",
    "\n",
    "# Modified Option 5\n",
    "ranks = [\n",
    "    ['a', 15, 23],  # item a\n",
    "    ['b', 10, 24],  # item b\n",
    "    ['c', 5, 25],   # item c\n",
    "    ['d', 6, 26],   # item d\n",
    "    ['e', None, 4], # item e - var2 only\n",
    "    ['f', 2, None]  # item f - var1 only\n",
    "]\n",
    "\n",
    "# Modified Option 6\n",
    "ranks = pd.DataFrame(ranks, columns = ['Item', 'Variable1', 'Variable2'])"
   ]
  }
 ],
 "metadata": {
  "kernelspec": {
   "display_name": "Python [Root]",
   "language": "python",
   "name": "Python [Root]"
  },
  "language_info": {
   "codemirror_mode": {
    "name": "ipython",
    "version": 2
   },
   "file_extension": ".py",
   "mimetype": "text/x-python",
   "name": "python",
   "nbconvert_exporter": "python",
   "pygments_lexer": "ipython2",
   "version": "2.7.12"
  }
 },
 "nbformat": 4,
 "nbformat_minor": 0
}
