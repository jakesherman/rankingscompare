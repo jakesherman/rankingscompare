{
 "cells": [
  {
   "cell_type": "code",
   "execution_count": 1,
   "metadata": {
    "collapsed": true
   },
   "outputs": [],
   "source": [
    "from __future__ import division, print_function\n",
    "\n",
    "\"\"\"tau.py - rank correlation metrics that basically measure the probability of\n",
    "concordance minus the probability of discordance.\n",
    "\"\"\"\n",
    "\n",
    "import itertools\n",
    "import numpy as np\n",
    "from utilities import *\n",
    "from warnings import warn"
   ]
  },
  {
   "cell_type": "markdown",
   "metadata": {},
   "source": [
    "# Testing `tau_stats`"
   ]
  },
  {
   "cell_type": "code",
   "execution_count": 29,
   "metadata": {
    "collapsed": true
   },
   "outputs": [],
   "source": [
    "def tau_stats(l1, l2):\n",
    "    \"\"\"Calculates the statistics used to compute the various correlation\n",
    "    statistics based on Kendall's tau given two lists of numbers, and a list of\n",
    "    tuples, which each tuple consisting of a pair of indexes that can be used to\n",
    "    index either l1 or l2. Computing these is O(n^2).\n",
    "    \"\"\"\n",
    "    assert len(l1) == len(l2), 'l1 and l2 must be paired data w/ equal length'\n",
    "    combinations = list(itertools.combinations(range(len(l1)), 2))\n",
    "    n, concordant, discordant, l1_ties, l2_ties = len(l1), 0, 0, 0, 0\n",
    "    pairs, m = len(combinations), min([len(set(l1)), len(set(l2))])\n",
    "    for combo in combinations:\n",
    "        xi, yi, xj, yj = l1[combo[0]], l2[combo[0]], l1[combo[1]], l2[combo[1]]\n",
    "        l1_sign, l2_sign = sign(xi - xj), sign(yi - yj)\n",
    "        ties = l1_sign == 0 or l2_sign == 0\n",
    "        if not ties:\n",
    "            concordant += l1_sign == l2_sign\n",
    "            discordant += l1_sign != l2_sign\n",
    "        else:\n",
    "            l1_ties += l1_sign == 0\n",
    "            l2_ties += l2_sign == 0\n",
    "    return pairs, concordant, discordant, l1_ties, l2_ties, m\n",
    "\n",
    "\n",
    "def tau_b(l1, l2):\n",
    "    \"\"\"tau-b, which accounts for ties. Most suitable for square tables.\n",
    "\n",
    "    Kendall's tau is a rank correlation statisic for conjoint ranked lists that\n",
    "    is not top-weighted, and not appropriate for indefinite lists. It estimates\n",
    "    a population parameter, the probability of concordance minus the probability\n",
    "    of discordance.\n",
    "\n",
    "    Parameters\n",
    "    ----------\n",
    "    l1: list\n",
    "        a list of values\n",
    "    l2: list\n",
    "        a list of values\n",
    "\n",
    "    Returns\n",
    "    -------\n",
    "    Kendall's tau-b: float in [-1, 1]\n",
    "    \"\"\"\n",
    "    pairs, concordant, discordant, l1_ties, l2_ties, m = tau_stats(l1, l2)\n",
    "    denominator = np.sqrt((pairs - l1_ties) * (pairs - l2_ties))\n",
    "    return (concordant - discordant) / denominator\n",
    "\n",
    "\n",
    "def ap_correlation(l1, l2, symmetric = False, reverse = True):\n",
    "    \"\"\"The AP correlation coefficient, proposed by Yilmaz et al. [2008] as an\n",
    "    alternative version of Kendall's Tau that is top-weighted. Does not account\n",
    "    for ties! Implementation is O(n^2), until Knight's algorithm is implemented.\n",
    "\n",
    "    Parameters\n",
    "    ----------\n",
    "    l1: list\n",
    "        a list of values\n",
    "    l2: list\n",
    "        a list of values\n",
    "    symmetric: bool (default is False)\n",
    "        AP correlation is not symmetric by default - l2 is the 'definitive'\n",
    "        ranked list, and l1 is being compared to l1. In other words, f(a, b) is\n",
    "        not necessarily f(b, a). Setting symmetric to True takes the mean of\n",
    "        f(a, b) and f(b, a). If symmetric is set to True, it doesn't matter\n",
    "        which ranked list is l1 and which is l2.\n",
    "    reverse: bool (default is True)\n",
    "        rank values in descending order (True) or ascending order (False)\n",
    "\n",
    "    Returns\n",
    "    -------\n",
    "    AP correlation: float in [-1, 1]\n",
    "    \"\"\"\n",
    "    if symmetric:\n",
    "        l1_l2 = ap_correlation(l1, l2, False, reverse)\n",
    "        l2_l1 = ap_correlation(l2, l1, False, reverse)\n",
    "        return (l1_l2 + l2_l1) / 2\n",
    "    pos_rank = [[pos, rank] for pos, rank in\n",
    "                zip(range(0, len(l1)), to_rank(l1, reverse = reverse))]\n",
    "    l2_ranks = to_rank(l2, reverse = reverse)\n",
    "    rank_specific_prob_concordants = []  # -- prob concordant for each rank\n",
    "    for pos, rank in pos_rank:\n",
    "        Ci = 0\n",
    "        if rank == 1:  # -- can't be anything ranked higher, so we skip\n",
    "            continue\n",
    "        else:\n",
    "            for subpos, subrank in pos_rank:\n",
    "                if subrank < rank:\n",
    "                    if l2_ranks[pos] > l2_ranks[subpos]:\n",
    "                        Ci += 1\n",
    "        rank_specific_prob_concordants.append(Ci / (rank - 1))\n",
    "    prob_concordant = np.mean(rank_specific_prob_concordants)\n",
    "    return 2 * prob_concordant - 1"
   ]
  },
  {
   "cell_type": "markdown",
   "metadata": {},
   "source": [
    "Generate some random data, then time and profile `tau_stats`"
   ]
  },
  {
   "cell_type": "code",
   "execution_count": 25,
   "metadata": {
    "collapsed": true
   },
   "outputs": [],
   "source": [
    "a, b = np.random.rand(3000), np.random.rand(3000)"
   ]
  },
  {
   "cell_type": "code",
   "execution_count": 26,
   "metadata": {
    "collapsed": false
   },
   "outputs": [
    {
     "name": "stdout",
     "output_type": "stream",
     "text": [
      "CPU times: user 12.7 s, sys: 219 ms, total: 12.9 s\n",
      "Wall time: 13 s\n"
     ]
    }
   ],
   "source": [
    "%%time\n",
    "pairs, concordant, discordant, l1_ties, l2_ties, m = tau_stats(a, b)"
   ]
  },
  {
   "cell_type": "code",
   "execution_count": 28,
   "metadata": {
    "collapsed": false
   },
   "outputs": [
    {
     "name": "stdout",
     "output_type": "stream",
     "text": [
      " "
     ]
    }
   ],
   "source": [
    "%%prun\n",
    "pairs, concordant, discordant, l1_ties, l2_ties, m = tau_stats(a, b)"
   ]
  },
  {
   "cell_type": "markdown",
   "metadata": {},
   "source": [
    "Same, but for `tau_b`"
   ]
  },
  {
   "cell_type": "code",
   "execution_count": 27,
   "metadata": {
    "collapsed": false
   },
   "outputs": [
    {
     "name": "stdout",
     "output_type": "stream",
     "text": [
      "CPU times: user 12.8 s, sys: 203 ms, total: 13 s\n",
      "Wall time: 13 s\n"
     ]
    }
   ],
   "source": [
    "%%time\n",
    "result = tau_b(a, b)"
   ]
  },
  {
   "cell_type": "markdown",
   "metadata": {},
   "source": [
    "Timing/profiling AP correlation"
   ]
  },
  {
   "cell_type": "code",
   "execution_count": 30,
   "metadata": {
    "collapsed": false
   },
   "outputs": [
    {
     "name": "stdout",
     "output_type": "stream",
     "text": [
      "CPU times: user 2.67 s, sys: 9.61 ms, total: 2.68 s\n",
      "Wall time: 2.67 s\n"
     ]
    }
   ],
   "source": [
    "%%time\n",
    "result = ap_correlation(a, b)"
   ]
  },
  {
   "cell_type": "code",
   "execution_count": 31,
   "metadata": {
    "collapsed": false
   },
   "outputs": [
    {
     "name": "stdout",
     "output_type": "stream",
     "text": [
      " "
     ]
    }
   ],
   "source": [
    "%%prun\n",
    "result = ap_correlation(a, b)"
   ]
  },
  {
   "cell_type": "markdown",
   "metadata": {},
   "source": [
    "## Alternative `tau_Stats`"
   ]
  },
  {
   "cell_type": "code",
   "execution_count": 33,
   "metadata": {
    "collapsed": false
   },
   "outputs": [
    {
     "ename": "SyntaxError",
     "evalue": "invalid syntax (<ipython-input-33-45f6c4fa1b1e>, line 7)",
     "output_type": "error",
     "traceback": [
      "\u001b[0;36m  File \u001b[0;32m\"<ipython-input-33-45f6c4fa1b1e>\"\u001b[0;36m, line \u001b[0;32m7\u001b[0m\n\u001b[0;31m    for i in range()\u001b[0m\n\u001b[0m                    ^\u001b[0m\n\u001b[0;31mSyntaxError\u001b[0m\u001b[0;31m:\u001b[0m invalid syntax\n"
     ]
    }
   ],
   "source": [
    "def tau_stats(l1, l2):\n",
    "    assert len(l1) == len(l2), 'l1 and l2 must be paired data w/ equal length'\n",
    "    combinations = list(itertools.combinations(range(len(l1)), 2))\n",
    "    n, concordant, discordant, l1_ties, l2_ties = len(l1), 0, 0, 0, 0\n",
    "    pairs, m = len(combinations), min([len(set(l1)), len(set(l2))])\n",
    "    \n",
    "    for i in range()\n",
    "    \n",
    "    for combo in combinations:\n",
    "        xi, yi, xj, yj = l1[combo[0]], l2[combo[0]], l1[combo[1]], l2[combo[1]]\n",
    "        l1_sign, l2_sign = sign(xi - xj), sign(yi - yj)\n",
    "        ties = l1_sign == 0 or l2_sign == 0\n",
    "        if not ties:\n",
    "            concordant += l1_sign == l2_sign\n",
    "            discordant += l1_sign != l2_sign\n",
    "        else:\n",
    "            l1_ties += l1_sign == 0\n",
    "            l2_ties += l2_sign == 0\n",
    "    return pairs, concordant, discordant, l1_ties, l2_ties, m"
   ]
  },
  {
   "cell_type": "code",
   "execution_count": null,
   "metadata": {
    "collapsed": true
   },
   "outputs": [],
   "source": []
  }
 ],
 "metadata": {
  "anaconda-cloud": {},
  "kernelspec": {
   "display_name": "Python [Root]",
   "language": "python",
   "name": "Python [Root]"
  },
  "language_info": {
   "codemirror_mode": {
    "name": "ipython",
    "version": 2
   },
   "file_extension": ".py",
   "mimetype": "text/x-python",
   "name": "python",
   "nbconvert_exporter": "python",
   "pygments_lexer": "ipython2",
   "version": "2.7.12"
  }
 },
 "nbformat": 4,
 "nbformat_minor": 0
}
