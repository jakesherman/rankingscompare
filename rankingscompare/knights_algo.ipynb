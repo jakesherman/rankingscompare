{
 "cells": [
  {
   "cell_type": "markdown",
   "metadata": {},
   "source": [
    "# Knight's Algorithm"
   ]
  },
  {
   "cell_type": "markdown",
   "metadata": {},
   "source": [
    "Finding concordances, discordances, and ties in O(n log n) time using a modified merge sort algorithm. Knight's algorithm can be used to compute Kendall's tau, and many other similar rank correlation coefficients that are based on concordances. "
   ]
  },
  {
   "cell_type": "code",
   "execution_count": 8,
   "metadata": {
    "collapsed": true
   },
   "outputs": [],
   "source": [
    "import itertools\n",
    "import numpy as np\n",
    "from utilities import *"
   ]
  },
  {
   "cell_type": "markdown",
   "metadata": {},
   "source": [
    "## Naive algorithm\n",
    "\n",
    "`O(n^2)` naive approach."
   ]
  },
  {
   "cell_type": "code",
   "execution_count": 14,
   "metadata": {
    "collapsed": false
   },
   "outputs": [
    {
     "data": {
      "text/plain": [
       "(28, 10, 10, 1, 6, 1)"
      ]
     },
     "execution_count": 14,
     "metadata": {},
     "output_type": "execute_result"
    }
   ],
   "source": [
    "def naive_tau_stats(l1, l2, debug=False):\n",
    "    \"\"\"Calculates the statistics used to compute the various correlation\n",
    "    statistics based on Kendall's tau given two lists of numbers, and a list of\n",
    "    tuples, which each tuple consisting of a pair of indexes that can be used to\n",
    "    index either l1 or l2. Computing these is O(n^2).\n",
    "    \"\"\"\n",
    "    assert len(l1) == len(l2), 'l1 and l2 must be paired data w/ equal length'\n",
    "    combinations = list(itertools.combinations(range(len(l1)), 2))\n",
    "    concordant = discordant = l1_ties = l2_ties = joint_ties = 0\n",
    "    n, pairs = len(l1), len(combinations)\n",
    "    for combo in combinations:\n",
    "        xi, yi, xj, yj = l1[combo[0]], l2[combo[0]], l1[combo[1]], l2[combo[1]]\n",
    "        l1_sign, l2_sign = sign(xi - xj), sign(yi - yj)\n",
    "        ties = l1_sign == 0 or l2_sign == 0\n",
    "        if debug:\n",
    "            print '\\nPair 1: ({}, {})'.format(str(xi), str(yi))\n",
    "            print 'Pair 2: ({}, {})'.format(str(xj), str(yj))\n",
    "        if not ties:\n",
    "            concordant += l1_sign == l2_sign\n",
    "            discordant += l1_sign != l2_sign\n",
    "            if debug:\n",
    "                if l1_sign == l2_sign:\n",
    "                    print '> Concordant'\n",
    "                else:\n",
    "                    print '> Discordant'\n",
    "        else:\n",
    "            left_tie, right_tie = l1_sign == 0, l2_sign == 0\n",
    "            if left_tie and right_tie:\n",
    "                joint_ties += 1\n",
    "                if debug:\n",
    "                    print '> Joint tie'\n",
    "            else:\n",
    "                if debug:\n",
    "                    if left_tie:\n",
    "                        print '> Left tie'\n",
    "                    else:\n",
    "                        print '> Right tie'\n",
    "                l1_ties += left_tie\n",
    "                l2_ties += right_tie\n",
    "    assert sum([concordant, discordant, l1_ties, l2_ties, joint_ties]) == pairs, \\\n",
    "        'The sum of all concordant/discordant/ties must equal the number of pairs'\n",
    "    return pairs, concordant, discordant, l1_ties, l2_ties, joint_ties\n",
    "\n",
    "\n",
    "# Example\n",
    "X = [14, 14, 4, 6, 18, 20, 20, 21]\n",
    "Y = [2, 7, 5, 2, 4, 4, 4, 4]\n",
    "\n",
    "naive_tau_stats(X, Y)"
   ]
  },
  {
   "cell_type": "markdown",
   "metadata": {},
   "source": [
    "Repeated, but in debug mode"
   ]
  },
  {
   "cell_type": "code",
   "execution_count": 15,
   "metadata": {
    "collapsed": false
   },
   "outputs": [
    {
     "name": "stdout",
     "output_type": "stream",
     "text": [
      "\n",
      "Pair 1: (14, 2)\n",
      "Pair 2: (14, 7)\n",
      "> Left tie\n",
      "\n",
      "Pair 1: (14, 2)\n",
      "Pair 2: (4, 5)\n",
      "> Discordant\n",
      "\n",
      "Pair 1: (14, 2)\n",
      "Pair 2: (6, 2)\n",
      "> Right tie\n",
      "\n",
      "Pair 1: (14, 2)\n",
      "Pair 2: (18, 4)\n",
      "> Concordant\n",
      "\n",
      "Pair 1: (14, 2)\n",
      "Pair 2: (20, 4)\n",
      "> Concordant\n",
      "\n",
      "Pair 1: (14, 2)\n",
      "Pair 2: (20, 4)\n",
      "> Concordant\n",
      "\n",
      "Pair 1: (14, 2)\n",
      "Pair 2: (21, 4)\n",
      "> Concordant\n",
      "\n",
      "Pair 1: (14, 7)\n",
      "Pair 2: (4, 5)\n",
      "> Concordant\n",
      "\n",
      "Pair 1: (14, 7)\n",
      "Pair 2: (6, 2)\n",
      "> Concordant\n",
      "\n",
      "Pair 1: (14, 7)\n",
      "Pair 2: (18, 4)\n",
      "> Discordant\n",
      "\n",
      "Pair 1: (14, 7)\n",
      "Pair 2: (20, 4)\n",
      "> Discordant\n",
      "\n",
      "Pair 1: (14, 7)\n",
      "Pair 2: (20, 4)\n",
      "> Discordant\n",
      "\n",
      "Pair 1: (14, 7)\n",
      "Pair 2: (21, 4)\n",
      "> Discordant\n",
      "\n",
      "Pair 1: (4, 5)\n",
      "Pair 2: (6, 2)\n",
      "> Discordant\n",
      "\n",
      "Pair 1: (4, 5)\n",
      "Pair 2: (18, 4)\n",
      "> Discordant\n",
      "\n",
      "Pair 1: (4, 5)\n",
      "Pair 2: (20, 4)\n",
      "> Discordant\n",
      "\n",
      "Pair 1: (4, 5)\n",
      "Pair 2: (20, 4)\n",
      "> Discordant\n",
      "\n",
      "Pair 1: (4, 5)\n",
      "Pair 2: (21, 4)\n",
      "> Discordant\n",
      "\n",
      "Pair 1: (6, 2)\n",
      "Pair 2: (18, 4)\n",
      "> Concordant\n",
      "\n",
      "Pair 1: (6, 2)\n",
      "Pair 2: (20, 4)\n",
      "> Concordant\n",
      "\n",
      "Pair 1: (6, 2)\n",
      "Pair 2: (20, 4)\n",
      "> Concordant\n",
      "\n",
      "Pair 1: (6, 2)\n",
      "Pair 2: (21, 4)\n",
      "> Concordant\n",
      "\n",
      "Pair 1: (18, 4)\n",
      "Pair 2: (20, 4)\n",
      "> Right tie\n",
      "\n",
      "Pair 1: (18, 4)\n",
      "Pair 2: (20, 4)\n",
      "> Right tie\n",
      "\n",
      "Pair 1: (18, 4)\n",
      "Pair 2: (21, 4)\n",
      "> Right tie\n",
      "\n",
      "Pair 1: (20, 4)\n",
      "Pair 2: (20, 4)\n",
      "> Joint tie\n",
      "\n",
      "Pair 1: (20, 4)\n",
      "Pair 2: (21, 4)\n",
      "> Right tie\n",
      "\n",
      "Pair 1: (20, 4)\n",
      "Pair 2: (21, 4)\n",
      "> Right tie\n"
     ]
    },
    {
     "data": {
      "text/plain": [
       "(28, 10, 10, 1, 6, 1)"
      ]
     },
     "execution_count": 15,
     "metadata": {},
     "output_type": "execute_result"
    }
   ],
   "source": [
    "naive_tau_stats(X, Y, debug=True)"
   ]
  },
  {
   "cell_type": "markdown",
   "metadata": {},
   "source": [
    "Walking through Knight's algorithm at a high-level"
   ]
  },
  {
   "cell_type": "code",
   "execution_count": 18,
   "metadata": {
    "collapsed": false
   },
   "outputs": [
    {
     "name": "stdout",
     "output_type": "stream",
     "text": [
      "[(14, 2), (14, 7), (4, 5), (6, 2), (18, 4), (20, 4), (20, 4), (21, 4)]\n",
      "[(4, 5), (6, 2), (14, 2), (14, 7), (18, 4), (20, 4), (20, 4), (21, 4)]\n"
     ]
    }
   ],
   "source": [
    "XY = list(zip(X, Y))\n",
    "print XY\n",
    "\n",
    "# Sorted XY by X, Y is secondary key\n",
    "XY = sorted(XY)\n",
    "print XY"
   ]
  },
  {
   "cell_type": "markdown",
   "metadata": {},
   "source": [
    "Confirming that `efficient_ties` works"
   ]
  },
  {
   "cell_type": "code",
   "execution_count": 23,
   "metadata": {
    "collapsed": false
   },
   "outputs": [
    {
     "data": {
      "text/plain": [
       "4"
      ]
     },
     "execution_count": 23,
     "metadata": {},
     "output_type": "execute_result"
    }
   ],
   "source": [
    "efficient_ties(X, Y)"
   ]
  },
  {
   "cell_type": "code",
   "execution_count": 24,
   "metadata": {
    "collapsed": false
   },
   "outputs": [
    {
     "data": {
      "text/plain": [
       "4"
      ]
     },
     "execution_count": 24,
     "metadata": {},
     "output_type": "execute_result"
    }
   ],
   "source": [
    "efficient_ties(Y, X)"
   ]
  },
  {
   "cell_type": "markdown",
   "metadata": {},
   "source": [
    "## Efficient algorithm"
   ]
  },
  {
   "cell_type": "markdown",
   "metadata": {},
   "source": [
    "### Computing ties\n",
    "\n",
    "Efficient way of computing ties. Need left ties, right ties, and joint ties. We can easily compute them in O(A \\* B) time, but the beauty of the modified merge step is that it can compute the number of concordances, discordances in O(A \\* B) time but with a lower constant factor."
   ]
  },
  {
   "cell_type": "code",
   "execution_count": 19,
   "metadata": {
    "collapsed": false
   },
   "outputs": [
    {
     "data": {
      "text/plain": [
       "2"
      ]
     },
     "execution_count": 19,
     "metadata": {},
     "output_type": "execute_result"
    }
   ],
   "source": [
    "def flatten(non_flat_list):\n",
    "    \"\"\"Flatten a list of lists into a simple list. Ex. the list\n",
    "    [1, [2, [3, [4, 5]]], 6, [[7]]] is transformed into the simple\n",
    "    list [1, 2, 3, 4, 5, 6, 7].\n",
    "    \"\"\"\n",
    "    if not isinstance(non_flat_list, list):\n",
    "        return [non_flat_list]\n",
    "    results = []\n",
    "    for item in non_flat_list:\n",
    "        results.extend(flatten(item))\n",
    "    return results\n",
    "\n",
    "\n",
    "def efficient_ties(A, B):\n",
    "    \"\"\"Compute the number of ties between A and B in O(A + B) time.\n",
    "    \"\"\"\n",
    "    \n",
    "    # Create the initial count dict for B\n",
    "    count_dict = {}\n",
    "    for item in B:\n",
    "        if item not in count_dict.keys():\n",
    "            count_dict[item] = 0\n",
    "        else:\n",
    "            if isinstance(count_dict[item], list):\n",
    "                count_dict[item].append(0)\n",
    "            else:\n",
    "                count_dict[item] = [0, 0] \n",
    "    \n",
    "    # Fill in the count dict with A\n",
    "    for item in A:\n",
    "        if item in count_dict.keys():\n",
    "            if isinstance(count_dict[item], list):\n",
    "                for i in range(len(count_dict[item])):\n",
    "                    count_dict[item][i] += 1\n",
    "            else:\n",
    "                count_dict[item] += 1      \n",
    "                \n",
    "    return sum(flatten(count_dict.values()))\n",
    "\n",
    "\n",
    "# O(A) or O(B) is 4\n",
    "# O(A * B) is 16\n",
    "A = [3, 4, 7, 9]\n",
    "B = [3, 3, 5, 8]\n",
    "efficient_ties(A, B)"
   ]
  },
  {
   "cell_type": "markdown",
   "metadata": {},
   "source": [
    "Now we can get left, right ties in O(A + B) time - problem: what about joint ties? We will have to deal with those in the merge step by modifying the algorithm that just counts inversions ..."
   ]
  },
  {
   "cell_type": "markdown",
   "metadata": {},
   "source": [
    "## Merge step\n",
    "\n",
    "The key to merge sort - since we recursively break the input array into two subarrays, we only run the merge step log n times. If the merge step itself takes O(n) time (or, if we consider n to be len(A) + len(B), O(A + B) time works too), we get a procedure that runs in O(n log n) time.\n",
    "\n",
    "In this case, we've taken input arrays X and Y, translated them into ranks, and combined them into a list of tuples with the `zip` function, and sorted them on X (with Y as a secondary key). Ties associated with X are 'left' ties, ties associated with Y are 'right' ties, and joint ties are ties on both X and Y for a given pair."
   ]
  },
  {
   "cell_type": "code",
   "execution_count": 4,
   "metadata": {
    "collapsed": false
   },
   "outputs": [],
   "source": [
    "def merge(B, C):\n",
    "    \"\"\"Merge sorted arrays B and C into a new sorted array D. O(len(B + C)),\n",
    "    also report the number of inversions that have occured thus far.\n",
    "    \"\"\"\n",
    "    \n",
    "    # Calculate the number of left ties\n",
    "    left_ties = efficient_ties([x[0] for x in B], [x[0] for x in C])\n",
    "    \n",
    "    # Calculate the number of concordances, discordances, right ties,\n",
    "    # and joint ties\n",
    "    D, discordances_at_column, rows_remaining = [], 0, len(B)\n",
    "    discordances, right_ties, joint_ties = len(B) * len(C), 0, 0\n",
    "    while len(B) > 0 and len(C) > 0:\n",
    "        left_B, right_B = B[0]\n",
    "        left_C, right_C = C[0]\n",
    "        \n",
    "        # Right / joint ties\n",
    "        if right_B == right_C:\n",
    "            tie = True\n",
    "            while tie:\n",
    "                \n",
    "            \n",
    "        if first_B <= first_C:\n",
    "            D.append(B.pop(0))\n",
    "            discordances += discordances_at_column\n",
    "            rows_remaining -= 1\n",
    "            if first_B == first_C:\n",
    "                ties += 1\n",
    "        else:\n",
    "            D.append(C.pop(0))\n",
    "            discordances_at_column += 1\n",
    "    if B:\n",
    "        D.extend(B)\n",
    "        discordances += discordances_at_column * rows_remaining\n",
    "    elif C:\n",
    "        D.extend(C)\n",
    "    concordances = concordances - discordances - ties\n",
    "    return D, concordances, discordances, ties"
   ]
  },
  {
   "cell_type": "code",
   "execution_count": 1,
   "metadata": {
    "collapsed": false
   },
   "outputs": [
    {
     "name": "stdout",
     "output_type": "stream",
     "text": [
      "[(1, 3), (2.5, 4), (2.5, 7), (4, 9)]\n",
      "[(5.5, 3), (5.5, 3), (7, 5), (8, 8)]\n"
     ]
    }
   ],
   "source": [
    "# Y: Example A, B (gives 'right' ties)\n",
    "B = [3, 4, 7, 9]\n",
    "C = [3, 3, 5, 8]\n",
    "\n",
    "# X: Example ranks (gives 'left' ties)\n",
    "B_ranks = [1, 2.5, 2.5, 4]\n",
    "C_ranks = [5.5, 5.5, 7, 8]\n",
    "\n",
    "# Data structure for input is a list of tuples of the form [(x1, y1), (x2, y2), ...]\n",
    "B = list(zip(B_ranks, B))\n",
    "C = list(zip(C_ranks, C))\n",
    "\n",
    "print B\n",
    "print C"
   ]
  },
  {
   "cell_type": "code",
   "execution_count": 19,
   "metadata": {
    "collapsed": true
   },
   "outputs": [],
   "source": [
    "# Y: Example A, B (gives 'right' ties)\n",
    "B = [3, 4, 7, 9]\n",
    "C = [3, 3, 5, 8]\n",
    "\n",
    "# X: Example ranks (gives 'left' ties)\n",
    "B_ranks = [1, 2.5, 2.5, 4]\n",
    "C_ranks = [5.5, 5.5, 7, 8]\n",
    "\n",
    "# Data structure for input is a list of tuples of the form [(x1, y1), (x2, y2), ...]\n",
    "B = list(zip(B_ranks, B))\n",
    "C = list(zip(C_ranks, C))"
   ]
  },
  {
   "cell_type": "code",
   "execution_count": 24,
   "metadata": {
    "collapsed": false
   },
   "outputs": [
    {
     "data": {
      "text/plain": [
       "[1, 2.5, 2.5, 4]"
      ]
     },
     "execution_count": 24,
     "metadata": {},
     "output_type": "execute_result"
    }
   ],
   "source": [
    "[x[0] for x in B]"
   ]
  },
  {
   "cell_type": "code",
   "execution_count": 25,
   "metadata": {
    "collapsed": false
   },
   "outputs": [
    {
     "data": {
      "text/plain": [
       "[5.5, 5.5, 7, 8]"
      ]
     },
     "execution_count": 25,
     "metadata": {},
     "output_type": "execute_result"
    }
   ],
   "source": [
    "[x[0] for x in C]"
   ]
  }
 ],
 "metadata": {
  "anaconda-cloud": {},
  "kernelspec": {
   "display_name": "Python [Root]",
   "language": "python",
   "name": "Python [Root]"
  },
  "language_info": {
   "codemirror_mode": {
    "name": "ipython",
    "version": 2
   },
   "file_extension": ".py",
   "mimetype": "text/x-python",
   "name": "python",
   "nbconvert_exporter": "python",
   "pygments_lexer": "ipython2",
   "version": "2.7.12"
  }
 },
 "nbformat": 4,
 "nbformat_minor": 0
}
