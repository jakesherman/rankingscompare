{
 "cells": [
  {
   "cell_type": "markdown",
   "metadata": {},
   "source": [
    "# Knight's Algorithm"
   ]
  },
  {
   "cell_type": "markdown",
   "metadata": {},
   "source": [
    "Finding concordances, discordances, and ties in O(n log n) time using a modified merge sort algorithm. Knight's algorithm can be used to compute Kendall's tau, and many other similar rank correlation coefficients that are based on concordances. "
   ]
  },
  {
   "cell_type": "markdown",
   "metadata": {},
   "source": [
    "### Computing ties\n",
    "\n",
    "Efficient way of computing ties. Need left ties, right ties, and joint ties. We can easily compute them in O(A \\* B) time, but the beauty of the modified merge step is that it can compute the number of concordances, discordances in O(A \\* B) time but with a lower constant factor."
   ]
  },
  {
   "cell_type": "code",
   "execution_count": 30,
   "metadata": {
    "collapsed": false
   },
   "outputs": [
    {
     "data": {
      "text/plain": [
       "{4, 7, 9}"
      ]
     },
     "execution_count": 30,
     "metadata": {},
     "output_type": "execute_result"
    }
   ],
   "source": [
    "set([3, 4, 7, 9]) - set([3, 3, 5, 8])"
   ]
  },
  {
   "cell_type": "code",
   "execution_count": 18,
   "metadata": {
    "collapsed": false
   },
   "outputs": [
    {
     "data": {
      "text/plain": [
       "2"
      ]
     },
     "execution_count": 18,
     "metadata": {},
     "output_type": "execute_result"
    }
   ],
   "source": [
    "def flatten(mylist):\n",
    "    \"\"\"Flatten a hierarchical list into a one-dimensional list.\n",
    "    \"\"\"\n",
    "    result = []\n",
    "    result.extend([item for item in mylist if not isinstance(item, list)])\n",
    "    lists = [item for item in mylist if isinstance(item, list)]\n",
    "    for item in lists:\n",
    "        result.extend(flatten(item))\n",
    "    return result\n",
    "\n",
    "\n",
    "def efficient_ties(A, B):\n",
    "    \"\"\"Compute the number of ties between A and B in O(B) time.\n",
    "    \"\"\"\n",
    "    \n",
    "    # Create the initial count dict for B\n",
    "    count_dict = {}\n",
    "    for item in B:\n",
    "        if item not in count_dict.keys():\n",
    "            count_dict[item] = 0\n",
    "        else:\n",
    "            if isinstance(count_dict[item], list):\n",
    "                count_dict[item].append(0)\n",
    "            else:\n",
    "                count_dict[item] = [0, 0] \n",
    "    \n",
    "    # Fill in the count dict with A\n",
    "    for item in A:\n",
    "        if item in count_dict.keys():\n",
    "            if isinstance(count_dict[item], list):\n",
    "                for i in range(len(count_dict[item])):\n",
    "                    count_dict[item][i] += 1\n",
    "            else:\n",
    "                count_dict[item] += 1      \n",
    "                \n",
    "    return sum(flatten(count_dict.values()))\n",
    "\n",
    "\n",
    "# O(A) or O(B) is 4\n",
    "# O(A * B) is 16\n",
    "A = [3, 4, 7, 9]\n",
    "B = [3, 3, 5, 8]\n",
    "efficient_ties(A, B)"
   ]
  },
  {
   "cell_type": "markdown",
   "metadata": {},
   "source": [
    "Now we can get left, right ties in O(B) time - problem: what about joint ties?"
   ]
  },
  {
   "cell_type": "markdown",
   "metadata": {},
   "source": [
    "## Merge step\n",
    "\n",
    "The key to merge sort - since we recursively break the input array into two subarrays, we only run the merge step log n times. If the merge step itself takes O(n) time (or, if we consider n to be len(A) + len(B), O(A + B) time works too), we get a procedure that runs in O(n log n) time.\n",
    "\n",
    "In this case, we've taken input arrays X and Y, translated them into ranks, and combined them into a list of tuples with the `zip` function, and sorted them on X (with Y as a secondary key). Ties associated with X are 'left' ties, ties associated with Y are 'right' ties, and joint ties are ties on both X and Y for a given pair."
   ]
  },
  {
   "cell_type": "code",
   "execution_count": null,
   "metadata": {
    "collapsed": true
   },
   "outputs": [],
   "source": [
    "def merge(B, C):\n",
    "    \"\"\"Merge sorted arrays B and C into a new sorted array D. O(len(B + C)),\n",
    "    also report the number of inversions that have occured thus far.\n",
    "    \"\"\"\n",
    "    \n",
    "    # Calculate the number of left ties\n",
    "    X_B, X_C = [x[0] for x in B], [x[0] for x in C]\n",
    "    left_ties = efficient_ties(X_B, X_C)\n",
    "    \n",
    "    # Calculate the number of concordances, discordances, right ties,\n",
    "    # and joint ties\n",
    "    D, discordances_at_column, rows_remaining = [], 0, len(B)\n",
    "    discordances, ties = len(B) * len(C), 0, 0\n",
    "    while len(B) > 0 and len(C) > 0:\n",
    "        first_B, first_C = B[1][0], C[1][0]\n",
    "        if first_B == first_C:\n",
    "            # Keep going forward until we don't have ties anymore, \n",
    "            # one minus the tie do the stuff we would normally do\n",
    "            # when there's a concordance\n",
    "            \n",
    "        if first_B <= first_C:\n",
    "            D.append(B.pop(0))\n",
    "            discordances += discordances_at_column\n",
    "            rows_remaining -= 1\n",
    "            if first_B == first_C:\n",
    "                ties += 1\n",
    "        else:\n",
    "            D.append(C.pop(0))\n",
    "            discordances_at_column += 1\n",
    "    if B:\n",
    "        D.extend(B)\n",
    "        discordances += discordances_at_column * rows_remaining\n",
    "    elif C:\n",
    "        D.extend(C)\n",
    "    concordances = concordances - discordances - ties\n",
    "    return D, concordances, discordances, ties\n",
    "\n",
    "\n",
    "# Y: Example A, B (gives 'right' ties)\n",
    "B = [3, 4, 7, 9]\n",
    "C = [3, 3, 5, 8]\n",
    "\n",
    "# X: Example ranks (gives 'left' ties)\n",
    "B_ranks = [1, 2.5, 2.5, 4]\n",
    "C_ranks = [5.5, 5.5, 7, 8]\n",
    "\n",
    "# Data structure for input is a list of tuples of the form [(x1, y1), (x2, y2), ...]\n",
    "B = list(zip(B_ranks, B))\n",
    "C = list(zip(C_ranks, C))\n",
    "\n",
    "# Output of the merge step\n",
    "merge(B, C)"
   ]
  },
  {
   "cell_type": "code",
   "execution_count": 19,
   "metadata": {
    "collapsed": true
   },
   "outputs": [],
   "source": [
    "# Y: Example A, B (gives 'right' ties)\n",
    "B = [3, 4, 7, 9]\n",
    "C = [3, 3, 5, 8]\n",
    "\n",
    "# X: Example ranks (gives 'left' ties)\n",
    "B_ranks = [1, 2.5, 2.5, 4]\n",
    "C_ranks = [5.5, 5.5, 7, 8]\n",
    "\n",
    "# Data structure for input is a list of tuples of the form [(x1, y1), (x2, y2), ...]\n",
    "B = list(zip(B_ranks, B))\n",
    "C = list(zip(C_ranks, C))"
   ]
  },
  {
   "cell_type": "code",
   "execution_count": 24,
   "metadata": {
    "collapsed": false
   },
   "outputs": [
    {
     "data": {
      "text/plain": [
       "[1, 2.5, 2.5, 4]"
      ]
     },
     "execution_count": 24,
     "metadata": {},
     "output_type": "execute_result"
    }
   ],
   "source": [
    "[x[0] for x in B]"
   ]
  },
  {
   "cell_type": "code",
   "execution_count": 25,
   "metadata": {
    "collapsed": false
   },
   "outputs": [
    {
     "data": {
      "text/plain": [
       "[5.5, 5.5, 7, 8]"
      ]
     },
     "execution_count": 25,
     "metadata": {},
     "output_type": "execute_result"
    }
   ],
   "source": [
    "[x[0] for x in C]"
   ]
  }
 ],
 "metadata": {
  "anaconda-cloud": {},
  "kernelspec": {
   "display_name": "Python [Root]",
   "language": "python",
   "name": "Python [Root]"
  },
  "language_info": {
   "codemirror_mode": {
    "name": "ipython",
    "version": 2
   },
   "file_extension": ".py",
   "mimetype": "text/x-python",
   "name": "python",
   "nbconvert_exporter": "python",
   "pygments_lexer": "ipython2",
   "version": "2.7.12"
  }
 },
 "nbformat": 4,
 "nbformat_minor": 0
}
