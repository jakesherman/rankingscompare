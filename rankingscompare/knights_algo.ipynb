{
 "cells": [
  {
   "cell_type": "markdown",
   "metadata": {},
   "source": [
    "# Knight's Algorithm"
   ]
  },
  {
   "cell_type": "markdown",
   "metadata": {},
   "source": [
    "Finding concordances, discordances, and ties in O(n log n) time using a modified merge sort algorithm. Knight's algorithm can be used to compute Kendall's tau, and many other similar rank correlation coefficients that are based on concordances. "
   ]
  },
  {
   "cell_type": "markdown",
   "metadata": {},
   "source": [
    "### Computing ties\n",
    "\n",
    "Efficient way of computing ties. Need left ties, right ties, and joint ties. We can easily compute them in O(A \\* B) time, but the beauty of the modified merge step is that it can compute the number of concordances, discordances in O(A \\* B) time but with a lower constant factor."
   ]
  },
  {
   "cell_type": "code",
   "execution_count": 1,
   "metadata": {
    "collapsed": false
   },
   "outputs": [
    {
     "data": {
      "text/plain": [
       "2"
      ]
     },
     "execution_count": 1,
     "metadata": {},
     "output_type": "execute_result"
    }
   ],
   "source": [
    "def flatten(non_flat_list):\n",
    "    \"\"\"Flatten a list of lists into a simple list. Ex. the list\n",
    "    [1, [2, [3, [4, 5]]], 6, [[7]]] is transformed into the simple\n",
    "    list [1, 2, 3, 4, 5, 6, 7].\n",
    "    \"\"\"\n",
    "    if not isinstance(non_flat_list, list):\n",
    "        return [non_flat_list]\n",
    "    results = []\n",
    "    for item in non_flat_list:\n",
    "        results.extend(flatten(item))\n",
    "    return results\n",
    "\n",
    "\n",
    "def efficient_ties(A, B):\n",
    "    \"\"\"Compute the number of ties between A and B in O(A + B) time.\n",
    "    \"\"\"\n",
    "    \n",
    "    # Create the initial count dict for B\n",
    "    count_dict = {}\n",
    "    for item in B:\n",
    "        if item not in count_dict.keys():\n",
    "            count_dict[item] = 0\n",
    "        else:\n",
    "            if isinstance(count_dict[item], list):\n",
    "                count_dict[item].append(0)\n",
    "            else:\n",
    "                count_dict[item] = [0, 0] \n",
    "    \n",
    "    # Fill in the count dict with A\n",
    "    for item in A:\n",
    "        if item in count_dict.keys():\n",
    "            if isinstance(count_dict[item], list):\n",
    "                for i in range(len(count_dict[item])):\n",
    "                    count_dict[item][i] += 1\n",
    "            else:\n",
    "                count_dict[item] += 1      \n",
    "                \n",
    "    return sum(flatten(count_dict.values()))\n",
    "\n",
    "\n",
    "# O(A) or O(B) is 4\n",
    "# O(A * B) is 16\n",
    "A = [3, 4, 7, 9]\n",
    "B = [3, 3, 5, 8]\n",
    "efficient_ties(A, B)"
   ]
  },
  {
   "cell_type": "markdown",
   "metadata": {},
   "source": [
    "Now we can get left, right ties in O(A + B) time - problem: what about joint ties? We will have to deal with those in the merge step by modifying the algorithm that just counts inversions ..."
   ]
  },
  {
   "cell_type": "markdown",
   "metadata": {},
   "source": [
    "## Merge step\n",
    "\n",
    "The key to merge sort - since we recursively break the input array into two subarrays, we only run the merge step log n times. If the merge step itself takes O(n) time (or, if we consider n to be len(A) + len(B), O(A + B) time works too), we get a procedure that runs in O(n log n) time.\n",
    "\n",
    "In this case, we've taken input arrays X and Y, translated them into ranks, and combined them into a list of tuples with the `zip` function, and sorted them on X (with Y as a secondary key). Ties associated with X are 'left' ties, ties associated with Y are 'right' ties, and joint ties are ties on both X and Y for a given pair."
   ]
  },
  {
   "cell_type": "code",
   "execution_count": 4,
   "metadata": {
    "collapsed": false
   },
   "outputs": [],
   "source": [
    "def merge(B, C):\n",
    "    \"\"\"Merge sorted arrays B and C into a new sorted array D. O(len(B + C)),\n",
    "    also report the number of inversions that have occured thus far.\n",
    "    \"\"\"\n",
    "    \n",
    "    # Calculate the number of left ties\n",
    "    left_ties = efficient_ties([x[0] for x in B], [x[0] for x in C])\n",
    "    \n",
    "    # Calculate the number of concordances, discordances, right ties,\n",
    "    # and joint ties\n",
    "    D, discordances_at_column, rows_remaining = [], 0, len(B)\n",
    "    discordances, right_ties, joint_ties = len(B) * len(C), 0, 0\n",
    "    while len(B) > 0 and len(C) > 0:\n",
    "        left_B, right_B = B[0]\n",
    "        left_C, right_C = C[0]\n",
    "        \n",
    "        # Right / joint ties\n",
    "        if right_B == right_C:\n",
    "            tie = True\n",
    "            while tie:\n",
    "                \n",
    "            \n",
    "        if first_B <= first_C:\n",
    "            D.append(B.pop(0))\n",
    "            discordances += discordances_at_column\n",
    "            rows_remaining -= 1\n",
    "            if first_B == first_C:\n",
    "                ties += 1\n",
    "        else:\n",
    "            D.append(C.pop(0))\n",
    "            discordances_at_column += 1\n",
    "    if B:\n",
    "        D.extend(B)\n",
    "        discordances += discordances_at_column * rows_remaining\n",
    "    elif C:\n",
    "        D.extend(C)\n",
    "    concordances = concordances - discordances - ties\n",
    "    return D, concordances, discordances, ties"
   ]
  },
  {
   "cell_type": "code",
   "execution_count": 1,
   "metadata": {
    "collapsed": false
   },
   "outputs": [
    {
     "name": "stdout",
     "output_type": "stream",
     "text": [
      "[(1, 3), (2.5, 4), (2.5, 7), (4, 9)]\n",
      "[(5.5, 3), (5.5, 3), (7, 5), (8, 8)]\n"
     ]
    }
   ],
   "source": [
    "# Y: Example A, B (gives 'right' ties)\n",
    "B = [3, 4, 7, 9]\n",
    "C = [3, 3, 5, 8]\n",
    "\n",
    "# X: Example ranks (gives 'left' ties)\n",
    "B_ranks = [1, 2.5, 2.5, 4]\n",
    "C_ranks = [5.5, 5.5, 7, 8]\n",
    "\n",
    "# Data structure for input is a list of tuples of the form [(x1, y1), (x2, y2), ...]\n",
    "B = list(zip(B_ranks, B))\n",
    "C = list(zip(C_ranks, C))\n",
    "\n",
    "print B\n",
    "print C"
   ]
  },
  {
   "cell_type": "code",
   "execution_count": 19,
   "metadata": {
    "collapsed": true
   },
   "outputs": [],
   "source": [
    "# Y: Example A, B (gives 'right' ties)\n",
    "B = [3, 4, 7, 9]\n",
    "C = [3, 3, 5, 8]\n",
    "\n",
    "# X: Example ranks (gives 'left' ties)\n",
    "B_ranks = [1, 2.5, 2.5, 4]\n",
    "C_ranks = [5.5, 5.5, 7, 8]\n",
    "\n",
    "# Data structure for input is a list of tuples of the form [(x1, y1), (x2, y2), ...]\n",
    "B = list(zip(B_ranks, B))\n",
    "C = list(zip(C_ranks, C))"
   ]
  },
  {
   "cell_type": "code",
   "execution_count": 24,
   "metadata": {
    "collapsed": false
   },
   "outputs": [
    {
     "data": {
      "text/plain": [
       "[1, 2.5, 2.5, 4]"
      ]
     },
     "execution_count": 24,
     "metadata": {},
     "output_type": "execute_result"
    }
   ],
   "source": [
    "[x[0] for x in B]"
   ]
  },
  {
   "cell_type": "code",
   "execution_count": 25,
   "metadata": {
    "collapsed": false
   },
   "outputs": [
    {
     "data": {
      "text/plain": [
       "[5.5, 5.5, 7, 8]"
      ]
     },
     "execution_count": 25,
     "metadata": {},
     "output_type": "execute_result"
    }
   ],
   "source": [
    "[x[0] for x in C]"
   ]
  }
 ],
 "metadata": {
  "anaconda-cloud": {},
  "kernelspec": {
   "display_name": "Python [Root]",
   "language": "python",
   "name": "Python [Root]"
  },
  "language_info": {
   "codemirror_mode": {
    "name": "ipython",
    "version": 2
   },
   "file_extension": ".py",
   "mimetype": "text/x-python",
   "name": "python",
   "nbconvert_exporter": "python",
   "pygments_lexer": "ipython2",
   "version": "2.7.12"
  }
 },
 "nbformat": 4,
 "nbformat_minor": 0
}
